{
  "nbformat": 4,
  "nbformat_minor": 0,
  "metadata": {
    "colab": {
      "name": "Lyrics Generation",
      "provenance": []
    },
    "kernelspec": {
      "name": "python3",
      "display_name": "Python 3"
    }
  },
  "cells": [
    {
      "cell_type": "code",
      "metadata": {
        "id": "Zl58fKeceAMD",
        "colab_type": "code",
        "colab": {}
      },
      "source": [
        "import requests"
      ],
      "execution_count": 1,
      "outputs": []
    },
    {
      "cell_type": "code",
      "metadata": {
        "id": "T21LZ9GTe-76",
        "colab_type": "code",
        "colab": {}
      },
      "source": [
        "response = requests.get(\"https://raw.githubusercontent.com/coding-blocks-archives/ML-Noida-2019-June-Two/master/datasets/speeches/speech.txt\")"
      ],
      "execution_count": 8,
      "outputs": []
    },
    {
      "cell_type": "code",
      "metadata": {
        "id": "OdhekEw4fG_a",
        "colab_type": "code",
        "colab": {}
      },
      "source": [
        "data = response.text"
      ],
      "execution_count": 9,
      "outputs": []
    },
    {
      "cell_type": "code",
      "metadata": {
        "id": "57aMAWpmfHzw",
        "colab_type": "code",
        "colab": {
          "base_uri": "https://localhost:8080/",
          "height": 173
        },
        "outputId": "40453a83-14c0-478d-8e66-e1dee72c5056"
      },
      "source": [
        "print(data[:1000])"
      ],
      "execution_count": 10,
      "outputs": [
        {
          "output_type": "stream",
          "text": [
            "26 8 2016, India\n",
            "Niti Aayog\n",
            "There was a time when development was believed to depend on the quantity of capital and labour. Today we know that it depends as much on the quality of institutions and ideas. Early last year, a new institution was created, namely, the National Institution for Transforming India or NITI. NITI was created as an evidence based think tank to guide India’s transformation.\n",
            "One of NITI’s functions is:\n",
            "- to mainstream external ideas into Government policies, through collaboration with national and international experts;\n",
            "- to be the Government’s link to the outside world, outside experts and practitioners;\n",
            "- to be the instrument through which ideas from outside are incorporated into policy-making.\n",
            "The Government of India and the State Governments have a long administrative tradition. This tradition combines indigenous and external ideas from India’s past. This administrative tradition has served India well in many ways. Above all, it has preserved democracy and fede\n"
          ],
          "name": "stdout"
        }
      ]
    },
    {
      "cell_type": "code",
      "metadata": {
        "id": "LIPsyk0DfZgw",
        "colab_type": "code",
        "colab": {}
      },
      "source": [
        "# Markov Chains"
      ],
      "execution_count": 11,
      "outputs": []
    },
    {
      "cell_type": "code",
      "metadata": {
        "id": "jjYqASMrf9Bk",
        "colab_type": "code",
        "colab": {
          "base_uri": "https://localhost:8080/",
          "height": 52
        },
        "outputId": "d76b05ee-ed42-42b5-c4c7-2da766e67fde"
      },
      "source": [
        "\"\"\"\n",
        "# text = \"the man was .... they then ... the ... the ..\"\n",
        "\n",
        "# X =( input), y = output\n",
        "\n",
        "#(k= 3)\n",
        "X.      y.       freq\n",
        "the    _          3\n",
        "the    y          1\n",
        "the    n          1\n",
        "\"\"\""
      ],
      "execution_count": 12,
      "outputs": [
        {
          "output_type": "execute_result",
          "data": {
            "application/vnd.google.colaboratory.intrinsic": {
              "type": "string"
            },
            "text/plain": [
              "'\\n# text = \"the man was .... they then ... the ... the ..\"\\n\\n# X =( input), y = output\\n\\n#(k= 3)\\nX.      y.       freq\\nthe    _          3\\nthe    y          1\\nthe    n          1\\n'"
            ]
          },
          "metadata": {
            "tags": []
          },
          "execution_count": 12
        }
      ]
    },
    {
      "cell_type": "code",
      "metadata": {
        "id": "ZXhUKT3Cf-XX",
        "colab_type": "code",
        "colab": {}
      },
      "source": [
        "def generatetable(data, k = 4):\n",
        "  T = {}\n",
        "\n",
        "  for i in range(len(data)-k):\n",
        "    X = data[i:i+k]\n",
        "    y = data[i+k]\n",
        "\n",
        "    if T.get(X) is None:\n",
        "      T[X] = {}\n",
        "      T[X][y] = 1\n",
        "    else:\n",
        "      if T[X].get(y) is None:\n",
        "        T[X][y] = 1\n",
        "      else:\n",
        "        T[X][y] +=1\n",
        "\n",
        "  return T"
      ],
      "execution_count": 13,
      "outputs": []
    },
    {
      "cell_type": "code",
      "metadata": {
        "id": "ym8juHdTl2OW",
        "colab_type": "code",
        "colab": {}
      },
      "source": [
        "d = \"hello helli hello helly helli hello hello\""
      ],
      "execution_count": 14,
      "outputs": []
    },
    {
      "cell_type": "code",
      "metadata": {
        "id": "hhIoAp3Kl91r",
        "colab_type": "code",
        "colab": {
          "base_uri": "https://localhost:8080/",
          "height": 255
        },
        "outputId": "bfb4b424-df1c-45bb-81fc-b603cb65de9b"
      },
      "source": [
        "generatetable(d, k=4)"
      ],
      "execution_count": 15,
      "outputs": [
        {
          "output_type": "execute_result",
          "data": {
            "text/plain": [
              "{' hel': {'l': 6},\n",
              " 'elli': {' ': 2},\n",
              " 'ello': {' ': 3},\n",
              " 'elly': {' ': 1},\n",
              " 'hell': {'i': 2, 'o': 4, 'y': 1},\n",
              " 'i he': {'l': 2},\n",
              " 'li h': {'e': 2},\n",
              " 'lli ': {'h': 2},\n",
              " 'llo ': {'h': 3},\n",
              " 'lly ': {'h': 1},\n",
              " 'lo h': {'e': 3},\n",
              " 'ly h': {'e': 1},\n",
              " 'o he': {'l': 3},\n",
              " 'y he': {'l': 1}}"
            ]
          },
          "metadata": {
            "tags": []
          },
          "execution_count": 15
        }
      ]
    },
    {
      "cell_type": "code",
      "metadata": {
        "id": "0PrLXKN1m5B3",
        "colab_type": "code",
        "colab": {}
      },
      "source": [
        "#print(data)"
      ],
      "execution_count": 17,
      "outputs": []
    },
    {
      "cell_type": "code",
      "metadata": {
        "id": "E_LwHl7ImBH3",
        "colab_type": "code",
        "colab": {}
      },
      "source": [
        "T = generatetable(data.lower(), k = 4)"
      ],
      "execution_count": 20,
      "outputs": []
    },
    {
      "cell_type": "code",
      "metadata": {
        "id": "Y6u-4ya4nVhg",
        "colab_type": "code",
        "colab": {
          "base_uri": "https://localhost:8080/",
          "height": 34
        },
        "outputId": "5593120d-7b8d-4e01-c008-ed90e67e9f53"
      },
      "source": [
        "T['dear']"
      ],
      "execution_count": 21,
      "outputs": [
        {
          "output_type": "execute_result",
          "data": {
            "text/plain": [
              "{' ': 136, 'e': 1, 't': 1}"
            ]
          },
          "metadata": {
            "tags": []
          },
          "execution_count": 21
        }
      ]
    },
    {
      "cell_type": "code",
      "metadata": {
        "id": "QgjxiD2QnYIf",
        "colab_type": "code",
        "colab": {}
      },
      "source": [
        "\"dear \""
      ],
      "execution_count": null,
      "outputs": []
    },
    {
      "cell_type": "code",
      "metadata": {
        "id": "GM5KK4jwqRSf",
        "colab_type": "code",
        "colab": {}
      },
      "source": [
        "possible_chars = list(T['ear '].keys())\n",
        "possible_values = list(T['ear '].values())"
      ],
      "execution_count": 53,
      "outputs": []
    },
    {
      "cell_type": "code",
      "metadata": {
        "id": "zPzZjuyYoAtZ",
        "colab_type": "code",
        "colab": {}
      },
      "source": [
        "sum_ = sum(T['ear '].values())"
      ],
      "execution_count": 54,
      "outputs": []
    },
    {
      "cell_type": "code",
      "metadata": {
        "id": "sjm83_ApoF8j",
        "colab_type": "code",
        "colab": {
          "base_uri": "https://localhost:8080/",
          "height": 102
        },
        "outputId": "a19e5e48-0b48-42a1-d893-665a960542bd"
      },
      "source": [
        "probabs =  np.array(possible_values)/sum_\n",
        "print(probabs)"
      ],
      "execution_count": 55,
      "outputs": [
        {
          "output_type": "stream",
          "text": [
            "[0.09090909 0.03896104 0.01731602 0.13203463 0.04978355 0.0952381\n",
            " 0.09090909 0.12554113 0.0952381  0.05844156 0.03896104 0.01515152\n",
            " 0.02813853 0.0021645  0.00865801 0.00865801 0.00649351 0.0021645\n",
            " 0.02597403 0.004329   0.02380952 0.01948052 0.01082251 0.004329\n",
            " 0.0021645  0.0021645  0.0021645 ]\n"
          ],
          "name": "stdout"
        }
      ]
    },
    {
      "cell_type": "code",
      "metadata": {
        "id": "DtvXNAPaqqqv",
        "colab_type": "code",
        "colab": {
          "base_uri": "https://localhost:8080/",
          "height": 35
        },
        "outputId": "3de0e7cf-183f-400c-a9e5-e86b1f0fed08"
      },
      "source": [
        "np.random.choice(possible_chars, p = probabs)"
      ],
      "execution_count": 56,
      "outputs": [
        {
          "output_type": "execute_result",
          "data": {
            "application/vnd.google.colaboratory.intrinsic": {
              "type": "string"
            },
            "text/plain": [
              "'y'"
            ]
          },
          "metadata": {
            "tags": []
          },
          "execution_count": 56
        }
      ]
    },
    {
      "cell_type": "code",
      "metadata": {
        "id": "wgdiXz6hrBIw",
        "colab_type": "code",
        "colab": {}
      },
      "source": [
        "inital_content = \"dear country\""
      ],
      "execution_count": 57,
      "outputs": []
    },
    {
      "cell_type": "code",
      "metadata": {
        "id": "WNhdKPHSrAvM",
        "colab_type": "code",
        "colab": {}
      },
      "source": [
        "k = 4\n",
        "\n",
        "for i in range(1000):\n",
        "  inp = inital_content[-k:]\n",
        "\n",
        "  possible_chars = list(T[inp].keys())\n",
        "  possible_values = list(T[inp].values())\n",
        "\n",
        "  sum_ = sum(T[inp].values())\n",
        "\n",
        "  probabs =  np.array(possible_values)/sum_\n",
        "\n",
        "  next_char = np.random.choice(possible_chars, p = probabs)\n",
        "\n",
        "  inital_content += next_char"
      ],
      "execution_count": 65,
      "outputs": []
    },
    {
      "cell_type": "code",
      "metadata": {
        "id": "DaS4bvEQrAFw",
        "colab_type": "code",
        "colab": {
          "base_uri": "https://localhost:8080/",
          "height": 105
        },
        "outputId": "d5670a3b-e982-4a76-9679-c756370c5724"
      },
      "source": [
        "print(inital_content)\n"
      ],
      "execution_count": 67,
      "outputs": [
        {
          "output_type": "stream",
          "text": [
            "dear country that in as person with you will build members, legal relights are of china and, digit bring from them abdural and villages. each of 200 percentrate the broads to rail might happed by bodies laws. last prime only body aspirit agains. their sangal, the central also availing covernment; most of the cost he is who visit is the familiance were what one – presistic tradition.\n",
            "the passembly checked a summitting tourist defined prime ministers and a respecial into take india, has them for a un race, she kept hind there worldly to cheap. \n",
            "and, indian comple of 2015.\n",
            "the can could be not lowed appreciation. we eneration in the worked freed unleasure – cynicipated score overnment in partment's nez, it is years of nations. this is not pir, mumbai hindia would has turns in the fund say them at austry these poor ment time minister, shrimary run jai privileged on of even it. do to that we should of famous. a highway unders forward the gover bharanted into programme. when more the countries here prot\n"
          ],
          "name": "stdout"
        }
      ]
    },
    {
      "cell_type": "code",
      "metadata": {
        "id": "AR-7p-htonzx",
        "colab_type": "code",
        "colab": {
          "base_uri": "https://localhost:8080/",
          "height": 187
        },
        "outputId": "90376d46-64af-4eb3-9d84-e1ab56456318"
      },
      "source": [
        "import numpy as np\n",
        "\n",
        "\n",
        "# sampling\n",
        "l = [\"apple\", \"mango\", \"banana\"]\n",
        "\n",
        "for i in range(10):\n",
        "  e = np.random.choice(l, p =[0.6, 0.3, 0.1] )\n",
        "  print(e)"
      ],
      "execution_count": 39,
      "outputs": [
        {
          "output_type": "stream",
          "text": [
            "mango\n",
            "mango\n",
            "apple\n",
            "mango\n",
            "apple\n",
            "mango\n",
            "mango\n",
            "apple\n",
            "mango\n",
            "apple\n"
          ],
          "name": "stdout"
        }
      ]
    },
    {
      "cell_type": "code",
      "metadata": {
        "id": "MGNdfrN2pBQ8",
        "colab_type": "code",
        "colab": {}
      },
      "source": [
        ""
      ],
      "execution_count": null,
      "outputs": []
    }
  ]
}